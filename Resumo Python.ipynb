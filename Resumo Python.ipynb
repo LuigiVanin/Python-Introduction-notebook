{
 "cells": [
  {
   "cell_type": "markdown",
   "metadata": {},
   "source": [
    "<center>\n",
    "<h1>Revisão de Python básico!</h1>\n",
    "</center>"
   ]
  },
  {
   "cell_type": "markdown",
   "metadata": {},
   "source": [
    "<br>"
   ]
  },
  {
   "cell_type": "markdown",
   "metadata": {},
   "source": [
    "<p><h3>Para iniciar essa revisão iremos primeiro abordar as variáveis em python e como elas funcionam.</h3></p>\n",
    "<p>Primeiro é importante saber que python não necessita de uma declaração específica de variável, ou seja, não é necessário colocar o tipo de sua variável antes de seu nome, bastando declara-la da seguinte maneira:</p>\n"
   ]
  },
  {
   "cell_type": "code",
   "execution_count": 14,
   "metadata": {},
   "outputs": [
    {
     "name": "stdout",
     "output_type": "stream",
     "text": [
      "25\n",
      "5\n"
     ]
    }
   ],
   "source": [
    "x = 25 #declaração de um inteiro\n",
    "y = 5\n",
    "print(x) #visualização de variável\n",
    "print(y)"
   ]
  },
  {
   "cell_type": "markdown",
   "metadata": {},
   "source": [
    "Como mostrado acima, mesmo sem a declaração do tipo de variável a informação foi armazenada na memória e , além disso,\n",
    "teve seu tipo já suposto... <b>mas como??</b>"
   ]
  },
  {
   "cell_type": "markdown",
   "metadata": {},
   "source": [
    "O python, em vez de exigir uma notação antes da nomeação da variável, tenta entender qual é o tipo de variável a ser usada em cada caso. Para reconhecer string, por exemplo, o python busca pelas aspas duplas(\" *string* \").\n",
    "\n",
    "### EX.:"
   ]
  },
  {
   "cell_type": "code",
   "execution_count": 15,
   "metadata": {},
   "outputs": [
    {
     "name": "stdout",
     "output_type": "stream",
     "text": [
      "5 Hello world 1.6666666666666667\n"
     ]
    }
   ],
   "source": [
    "x = 5 #declaração de inteiro\n",
    "texto = \"Hello world\" #declaração de string\n",
    "y = 5/3 #declaração de decimal\n",
    "\n",
    "print(x, texto, y)"
   ]
  },
  {
   "cell_type": "markdown",
   "metadata": {},
   "source": [
    "Podemos também aprender como executar uma concatenação de valores em uma saida, lembrando que existem três maneira para realizar essa tarefa em python."
   ]
  },
  {
   "cell_type": "code",
   "execution_count": 16,
   "metadata": {},
   "outputs": [
    {
     "name": "stdout",
     "output_type": "stream",
     "text": [
      "BOLO DE CENOURA.\n",
      "eu amo cenoura CENOURA.\n",
      "corta a CENOURA e joga na panela\n"
     ]
    }
   ],
   "source": [
    "ingrediente = \"CENOURA\"\n",
    "\n",
    "print(\"BOLO DE \" + ingrediente + \".\")  #MANEIRA 1 - separar os ítens por \"+\"(obs.: separação apenas de strings).\n",
    "\n",
    "print(f\"eu amo cenoura {ingrediente}.\") #MANEIRA 2 - inserir variáveis através de chaves \"{}\" e indicando a insersão com a chave \"f\" no inicio do print.\n",
    "\n",
    "print(\"corta a\", ingrediente, \"e joga na panela\") #MANEIRA 3 - separação via vírgula."
   ]
  },
  {
   "cell_type": "markdown",
   "metadata": {},
   "source": [
    "<br>\n",
    "\n",
    "Utilizando o exemplo anterior vamos manipular a variável \"ingrediente\" para modificar todas as respostas vistas"
   ]
  },
  {
   "cell_type": "code",
   "execution_count": 17,
   "metadata": {},
   "outputs": [
    {
     "name": "stdout",
     "output_type": "stream",
     "text": [
      "BOLO DE BETERRABA.\n",
      "eu amo cenoura BETERRABA.\n",
      "corta a BETERRABA e joga na panela\n"
     ]
    }
   ],
   "source": [
    "ingrediente = \"BETERRABA\"\n",
    "\n",
    "print(\"BOLO DE \" + ingrediente + \".\")\n",
    "\n",
    "print(f\"eu amo cenoura {ingrediente}.\")\n",
    "\n",
    "print(\"corta a\", ingrediente, \"e joga na panela\")"
   ]
  },
  {
   "cell_type": "markdown",
   "metadata": {},
   "source": [
    "Em python podemos citas os principais tipos de dados utilizados, eles são: **Inteiros, Strings, Floats e Booleanas(True ou False).**\n",
    "\n",
    "<hr>"
   ]
  },
  {
   "cell_type": "markdown",
   "metadata": {},
   "source": [
    "## Comandos condicionais\n"
   ]
  },
  {
   "cell_type": "markdown",
   "metadata": {},
   "source": [
    "Os comandos condicionais são aqueles que irão iniciar a construção de uma lógica mais aprimorada em nossos algorítmos. Com eles podemos determinar quando certo bloco de código será relizado a partir de um certa condição estabelecida, caso tal condição for atendida um bloco de códigos será realizado.\n",
    "~~~python\n",
    "if(CONDIÇÂO):\n",
    "    BLOCO DE CÓDIGOS\n",
    "elif (CONDIÇÃO SECUNDÀRIA):\n",
    "    BLOCO DE CÓDIGO 2\n",
    "else: ##não é necessário estabelecer uma condição no else.\n",
    "    BLOCO DE CÓDIGO 3\n",
    "~~~\n",
    "\n",
    "<hr>\n",
    "\n",
    "### Como podemos observar na demostração acima, exitem três principais tipos de comandos condicionais:\n",
    "\n",
    "<ul>\n",
    "    <li><b>if </b>- nesse comando temos a função de testar uma condição dentro de seu argumento(if(\"argumento)) que <b>SE</b> caso seja atendida deve executar um bloco de código.</li>\n",
    "    <li><b>elif</b> - esse comando também possui um argumento, que representa uma condição , e um bloco de  código a ser executado, porém só pode ser inicializado caso já haja um comando <b>IF</b> anterior a ele. O elif só é executado caso o comando if anterior não tiver sua condição compreendida, juntamento, com a condição do elif sendo correspondida. </li> \n",
    "    <li><b>else</b> - esse comando não necessita de um argumento com uma condição e só pode ser inicializado como o último comando lógico de uma série de comandos dessa natureza. Ele somente é executado se o comando if ou elif falharem em compreender suas condições.</li>\n",
    "</ul>\n",
    "\n",
    "OBS.: caso um comando if tenha sua condição preenchida e em seguida houver um comando elif sucedido por um comando else, nenhum dos dois comandos será executados, pois o comando elif nem será testado devido a não falha do comando if a qual está relacionado e o comando else não irá executar, pois não haverá teste no comando condição elif acima dele, logo, não existe teste de condição para que se haja falha ou sucesso."
   ]
  },
  {
   "cell_type": "markdown",
   "metadata": {},
   "source": [
    "### condições:\n",
    " \n",
    "As condições citadas nos comandos condicionais são sempre respostas booleanas, ou seja, tem como respostas True ou False. Caso o argumento apresentar uma afirmação do tipo True, a condição do if ou do elif é atendida, caso seja False, a condição não é atendida. O estabelecimento dessa condições é realizado pelos operadores lógicos que sempre retornam True ou False.\n",
    "\n",
    "### Operadores Lógicos:\n",
    "\n",
    "Os operadores lógicos buscam estabelecer relaciões entre tipos de variáveis e valores, categorizando essas relações como verdadeira ou falsa.\n",
    "\n",
    "Ex.: \n",
    "<br>\n",
    "5 é maior que 6 --> Falso\n",
    "<br>\n",
    "100 é menor que 1000 --> Verdadeiro\n",
    "\n",
    "\n"
   ]
  },
  {
   "cell_type": "markdown",
   "metadata": {},
   "source": [
    "Os operadores lógicos são os seguintes:\n",
    "<ul>\n",
    "    <li><b> \"maior que\" (>):</b> é usado para comparar dois valores e retornar True caso o primeiro valor for maior que o segundo e False caso o primeiro for menor.</li> \n",
    "    <li><b> \"menor que\" (<):</b> é usado para comparar dois valores e retornar True caso o primeiro valor for menor que o segundo e False caso o primeiro for maior.</li> \n",
    "     <li><b> \"igual a\" (==):</b> é usado para comparar dois valores e retornar True caso os valores sejam iguais.</li> \n",
    "    <li><b> \"menor ou igual a\" e \"maior ou igual a\" (=> e <=):</b> é a junção dos três operadores acima.</li>\n",
    "    <li><b> \"diferente de\" (!=):</b> é usado para comparar dois valores e retornar True caso os valores sejam diferentes e false caso sejam iguais.</li>\n",
    "    <li><b> \"diferente\" (not):</b> muito similar ao operador != com a diferença de ser mais abrangente e ter a capacidade de inverter qualque resultado booleano. funciona exatamente como uma PORTA NOT</li>\n",
    "</ul>\n",
    "<br>\n",
    "\n",
    "Além desse tipo de operadores lógicos, temos ainda aqueles que atuam como as postas lógicas \"and\" e \"or\". Esses operdores lógicos recebem dois valores booleanos e retornam outro valor booleano.\n",
    "\n",
    "<ul>\n",
    "    <li><b>\"porta e\" (and):</b> retorna True quando ambas as entradas forem True e False para as demais opções.</li>\n",
    "    <li><b>\"porta ou\" (or):</b> retorna True quando pelo menos uma das entradas é True, e retorna false quando ambas as entradas são False.</li>\n",
    "</ul>\n",
    "\n",
    "<br>    \n",
    "\n",
    "## EX.:\n",
    "    \n",
    "        "
   ]
  },
  {
   "cell_type": "code",
   "execution_count": 18,
   "metadata": {},
   "outputs": [
    {
     "name": "stdout",
     "output_type": "stream",
     "text": [
      "digite um número e veja se ele está entre o número de Euler e pi: 2.79\n",
      "2.79 está no intervalo sugerido, está entre 2.718281828459045 e 3.141592653589793\n"
     ]
    }
   ],
   "source": [
    "import math #importação de biblioateca do python\n",
    "\n",
    "pi = math.pi\n",
    "e = math.e\n",
    "\n",
    "number = float(input(\"digite um número, e veja se ele está entre o número de Euler e pi: \"))\n",
    "\n",
    "if(number > pi):\n",
    "    print(f\"{number} está fora do intervalo, pois é maior que pi\")\n",
    "    \n",
    "elif(number < e):\n",
    "    print(f\"{number} está fora do intervalo pois é menor que o número de Euler\")\n",
    "    \n",
    "else:\n",
    "    print(f\"{number} está no intervalo sugerido, está entre {e} e {pi}\")"
   ]
  },
  {
   "cell_type": "markdown",
   "metadata": {},
   "source": [
    "<hr>\n",
    "\n",
    "## Laços de repetição\n",
    "\n",
    "Laços de repetições são estruturas de extrema importância para qualquer linguagem de programação e, juntamente, com os comandos condicionais podem criar algoítmos muito complexos. O laço é aquilo que comumente chamamos de loop, um comando que se repete até atingir uma condição determinada. Vale salientar que juntament com o conceito de loop veremos as listas/vetor de python."
   ]
  },
  {
   "cell_type": "markdown",
   "metadata": {},
   "source": [
    "Para trabalharmos melhor com o conceito de comando de repetição iremos ver também o conceito de **LISTA** em pyhon, que é basicamente o vetor de outras linguagens. Lista é uma variável que tem a capacidade de armazenar outras variávei dentro de si, cada um desses valores e distinguido dentro da lista por um índice.\n",
    " \n",
    "<br>\n",
    "\n",
    "### Demo.:"
   ]
  },
  {
   "cell_type": "code",
   "execution_count": 19,
   "metadata": {},
   "outputs": [],
   "source": [
    "# I\n",
    "n1 = 3; n2 = 9; n3 = 9; n4 = 9; n5 = 0; n6 = 7"
   ]
  },
  {
   "cell_type": "markdown",
   "metadata": {},
   "source": [
    "<p>Observe acima a declaração de seis variáveis que serão usadas em um mesmo contexto ou operação, por exemplo uma soma de média. Veja o trabalho que teremos para declarar cada valor individualmente, armazenando-os em locais diferentes.</p>\n",
    "\n",
    "<p>Agora veremos como  essa estrutura ficará em forma de lista:</p>"
   ]
  },
  {
   "cell_type": "code",
   "execution_count": 20,
   "metadata": {},
   "outputs": [],
   "source": [
    "#II\n",
    "n = [] #declaração de uma lista vazia\n",
    "n = [3, 9, 9, 9, 0, 7] #preenchendo os espaços"
   ]
  },
  {
   "cell_type": "code",
   "execution_count": 21,
   "metadata": {},
   "outputs": [
    {
     "name": "stdout",
     "output_type": "stream",
     "text": [
      "3\n"
     ]
    }
   ],
   "source": [
    "print(n[0]) #print do primeiro valor da lista, aquele que possui o índeice 0"
   ]
  },
  {
   "cell_type": "markdown",
   "metadata": {},
   "source": [
    "Veja que a estrutura passa a ser muito mais simples e mais rápida de ser escrita, além disso podemos achar muito mais fácil os valores que queremos. Perceba também a existência de um valor numerico dentro das chaves no momento do print(n[índice]), esse número representa o índice da lista, ou seja, onde certo valor está armazendo partindo do número zero até o número total de elementos na lista menos 1. Os elementos são representados em ordem dentro da lista, sendo o primeiro valor(no exemplo o 0) armazenado no índice 0, o segundo armazenado no índice 1(no caso 9) e assim por diante."
   ]
  },
  {
   "cell_type": "markdown",
   "metadata": {},
   "source": [
    "Existem também funções que se aplicam as lista, as tornando muito úteis e práticas.As mais importamtes são as funções del(), lista.insert(), len(), lista.append() e sum().\n",
    "\n",
    "<ul>\n",
    "    <li><b>del()</b>: é utilizado para retirar um valor de um determinado índice de uma lista, quando esse valor é retirado todos os valores presentes em índices maiores que o índice escolhido passam para o espaço de índice anterior.</li>\n",
    "</ul>\n",
    "\n",
    "~~~python\n",
    "del(lista[índice])\n",
    "~~~\n",
    "\n",
    "<ul>\n",
    "    <li><b>len()</b>: recebe como parâmetro uma lista e retorna um real. O real retornado representa o tamanho da lista, quantos espaços ela possui.</li>\n",
    "</ul>\n",
    "\n",
    "~~~python\n",
    "len(lista)\n",
    "~~~\n",
    "\n",
    "<ul>\n",
    "    <li><b>sum()</b>: recebe uma lista como parâmetro e retorna a soma de todos os elementos dessa lista.</li>\n",
    "</ul>\n",
    "\n",
    "~~~python\n",
    "sum(lista)\n",
    "~~~\n",
    "\n",
    "<ul>\n",
    "    <li><b>lista.append()</b>: adiciona uma valor ao final da lista, aumentando em +1 o tamanho da lista. O vaolr a ser adicionado deve ser passado no parâmetro da função.</li>\n",
    "</ul>\n",
    "\n",
    "~~~python\n",
    "lista.append(valor)\n",
    "~~~\n",
    "\n",
    "<ul>\n",
    "    <li><b>lista.insert()</b>: Essa função adiciona um novo valor na lista em um local determinado. No parâmetro da função entra dois valores, um para o local/índice a qual o novo valor será adicionado e o outro é o valor que será encorporado na lista.</li>\n",
    "</ul>\n",
    "\n",
    "~~~python\n",
    "lista.insert(índice, valor)\n",
    "~~~\n",
    "\n",
    "<br>\n",
    "\n",
    "Tentaremos agr resolver um problema de média aritimédica usanado as duas abordagem vistas na demostração:"
   ]
  },
  {
   "cell_type": "code",
   "execution_count": 22,
   "metadata": {},
   "outputs": [
    {
     "name": "stdout",
     "output_type": "stream",
     "text": [
      "A média utilizada no método I é equivalente a média obtida pelo método II\n",
      "Essa média equivale 6.166666666666667\n"
     ]
    }
   ],
   "source": [
    "#Abordagem I (sem lista)\n",
    "mediaI = (n1 + n2 + n3 + n4 + n5 + n6)/6\n",
    "\n",
    "#Abordagem II (com lista)\n",
    "mediaII = sum(n)/len(n)\n",
    "\n",
    "if mediaI == mediaII:\n",
    "    print(f\"A média utilizada no método I é equivalente a média obtida pelo método II\\nEssa média equivale {mediaII}\")"
   ]
  },
  {
   "cell_type": "markdown",
   "metadata": {},
   "source": [
    "### Agora podemos aprender um pouco sobre laços condicionais e sua iterações, para ser mais especifico, aprenderemos a utilizar os comandos while : e for :."
   ]
  },
  {
   "cell_type": "markdown",
   "metadata": {},
   "source": [
    "O principal comando de repetição é o **for** usado para criar loopings em um intervalo de valores ou de variáveis interáveis. Para utilizar o for com um contador, no qual as repetições desse contadir chegam em um certo valor usamos a função range(), em que dentro dessa função se insere o intervalo de valores que você deseja interar.\n",
    "\n",
    "~~~python\n",
    "for variável in lista/interável: #dentro desse valor \"lista/intável\" colocamos o intervalo de repetição\n",
    "    BLOCO DE CÓDIGO A SER REPETIDO\n",
    "~~~\n",
    "\n",
    "As palavras \"for\" e \"in\" são palavras chaves para o comando de repetição, já as palavras \"variável\" e \"lista/interável\" são arbitrárias e devem ser determinadas pelo programador. A cada interação do looping \"for\" o valor da variável assumira um valor diferente da lista a qual se refere, sendo esse valor o de índice igual ao do número de interações. **Ex.:se o for estiver na interação 0, a variável assumirá o valor igual a lista[0]** \n",
    "\n",
    "<br>\n",
    "\n",
    "**OBS.:** Para uma compreensão mais simples podemos pensar na função range(a, b) como uma lista dos valores inteiro de **a** até **b**."
   ]
  },
  {
   "cell_type": "code",
   "execution_count": 23,
   "metadata": {},
   "outputs": [
    {
     "name": "stdout",
     "output_type": "stream",
     "text": [
      "0\n",
      "1\n",
      "2\n",
      "3\n",
      "4\n"
     ]
    }
   ],
   "source": [
    "#I utilizando o FOR com a função range.\n",
    "for i in range(0,5):\n",
    "    print(i)"
   ]
  },
  {
   "cell_type": "code",
   "execution_count": 24,
   "metadata": {},
   "outputs": [
    {
     "name": "stdout",
     "output_type": "stream",
     "text": [
      "0\n",
      "1\n",
      "2\n",
      "3\n",
      "4\n"
     ]
    }
   ],
   "source": [
    "#Utilizando uma lista de 0 a 1 no FOR\n",
    "lista = [0, 1, 2, 3, 4]\n",
    "\n",
    "for i in lista:\n",
    "    print(i)"
   ]
  },
  {
   "cell_type": "markdown",
   "metadata": {},
   "source": [
    "Observe que o resultado dos dois métodos é o mesmo, pois ambos podem ser interpretados como lista crescentes de 0 a 4. Nesse notebook usaremos sempre a função range, pois ela é mais rápida de ser inserida no código e é mais flexível."
   ]
  },
  {
   "cell_type": "markdown",
   "metadata": {},
   "source": [
    "Outra maneira de usar essa lista que vem após a palavra chave \"in\" é com strings e listas genéricas, vamos ver exemplos:"
   ]
  },
  {
   "cell_type": "code",
   "execution_count": 25,
   "metadata": {},
   "outputs": [
    {
     "name": "stdout",
     "output_type": "stream",
     "text": [
      "b\n",
      "a\n",
      "n\n",
      "a\n",
      "n\n",
      "a\n"
     ]
    }
   ],
   "source": [
    "#Utilizando for em strings:\n",
    "for fruta in \"banana\":\n",
    "    print(fruta)"
   ]
  },
  {
   "cell_type": "code",
   "execution_count": 26,
   "metadata": {},
   "outputs": [
    {
     "name": "stdout",
     "output_type": "stream",
     "text": [
      "1\n",
      "7\n",
      "maça\n",
      "9.9\n",
      "livro\n"
     ]
    }
   ],
   "source": [
    "#Utilizado for com listas genéricas:\n",
    "gen = [1, 7, \"maça\", 9.9, \"livro\"]\n",
    "for i in gen:\n",
    "    print(i)"
   ]
  },
  {
   "cell_type": "markdown",
   "metadata": {},
   "source": [
    "<br>\n",
    "\n",
    "Agora veremos um pouo da estrutura para o **while**, comando esse que também funciona como um looping de interações, porém tem uma estrutura um pouco diferente da do for. Abaixo a demostração do código do while:\n",
    "\n",
    "~~~python \n",
    "while(CONDIÇÃO):\n",
    "    BLOCO DE CÓDIGO\n",
    "~~~\n",
    "\n",
    "Como pode-se ver o while funciona com uma condição passada dentro do argumento e um bloco de código que será executado em looping. O bloco de código inserido dentro da estrutura do while será aquele a ser repetido enquanto a condição passada no argumento for verdadeira. No momentoem que a condição for falsa o while para de repetir o código.\n",
    "Veja um exemplo de um while que rodará infinitamente, pois a condição de seu while sempre será compreendida.\n",
    "\n",
    "~~~python\n",
    "while(True):\n",
    "    print(\"infinito\")\n",
    "~~~\n",
    "\n",
    "Vamos ver um exemplo de um laço de repetição while:"
   ]
  },
  {
   "cell_type": "code",
   "execution_count": 27,
   "metadata": {
    "scrolled": true
   },
   "outputs": [
    {
     "name": "stdout",
     "output_type": "stream",
     "text": [
      "maracuja\n",
      "pera\n",
      "O limão está na posição 2\n"
     ]
    }
   ],
   "source": [
    "frutas = [\"maracuja\", \"pera\", \"limão\", \"jambu\", \"maca\"]\n",
    "cont = 0\n",
    "\n",
    "while (frutas[cont] != \"limão\"):\n",
    "    print(frutas[cont])\n",
    "    cont = cont + 1\n",
    "else:\n",
    "    print(\"O limão está na posição\", cont)"
   ]
  },
  {
   "cell_type": "markdown",
   "metadata": {},
   "source": [
    "Observer que como o comando while é regido por uma condição podemos aplicar um **else** para caso essa condição não seja compreendida."
   ]
  },
  {
   "cell_type": "markdown",
   "metadata": {},
   "source": [
    "Para completar o assunto de laços, podemos citar as funções que podem ser utilizadas juntamente com os comando de repetição, funções essa que interagem com o andamento do looping. A função mais importante dessa categoria é a **break**, que tem a capacidade de encerrar todo o laço assim que acionada, independedo das condições iniciais do comando de repetição. Além do comando break, temos também a função **continue**\n",
    "que encerra a iteração a qual foi acionado fazendo com que o código da próxima iteração seja realizado.\n",
    "\n",
    "#### Ex.:"
   ]
  },
  {
   "cell_type": "code",
   "execution_count": 29,
   "metadata": {},
   "outputs": [
    {
     "name": "stdout",
     "output_type": "stream",
     "text": [
      "0, 1, 2, 3, 4, 5.\n",
      "\n",
      "0 é par, 2 é par, 4 é par, 6 é par, 8 é par, 10 é par, 12 é par, 14 é par, 16 é par, 18 é par, "
     ]
    }
   ],
   "source": [
    "i = 0\n",
    "while True : #foi citado anteriormente que esse tipo de while deveria ser infinito, o break() nos salva disso\n",
    "    if (i == 5):\n",
    "        print(i, end = \".\")\n",
    "        break #para a repetição quando i for igual a 5\n",
    "    print(i, end = \", \")\n",
    "    i += 1 #mesma coisa de x = x + 1\n",
    "    \n",
    "print(\"\\n\")\n",
    "\n",
    "for i in range(0, 20): #for que vai de 0 a 19\n",
    "    if(i%2 != 0):\n",
    "        continue #caso i seja impar pulamos para a próxima iteração\n",
    "    print(i, \"é par\", end = \", \")\n",
    "    "
   ]
  },
  {
   "cell_type": "markdown",
   "metadata": {},
   "source": [
    "<p>Antes de pularmos para o próximo conteúdo, vamos analizar mais um tipo de interável. Até agora foram apresentados os seguintes interáveis: Strings,listas e range. Perceba que todos os elementos citados podem ser utilizados como parâmetros do comando \"for\". O novo interável que será introdizido é a <b>Tupla</b>. </p>\n",
    "\n",
    "<p>As tuplas são muito parecidas com as listas, tendo como diferença o fato de serem imutáveis, ou seja, os valores armazenados em uma tupla não podem ser modificados, além disso, novos valores também não podem ser adicionados, ou seja, a tupla possui um tamanho fixo.\n",
    "</p>\n",
    "\n",
    "~~~python\n",
    "tupla = (1, 2, 3, 4, ...)\n",
    "~~~ \n",
    "\n",
    "**OBS.:** para se iniciar uma tupla unitária deve-se usar a seguinte notação: tup = (1, )\n"
   ]
  },
  {
   "cell_type": "code",
   "execution_count": 31,
   "metadata": {},
   "outputs": [
    {
     "name": "stdout",
     "output_type": "stream",
     "text": [
      "8\n"
     ]
    },
    {
     "ename": "TypeError",
     "evalue": "'tuple' object does not support item assignment",
     "output_type": "error",
     "traceback": [
      "\u001b[0;31m---------------------------------------------------------------------------\u001b[0m",
      "\u001b[0;31mTypeError\u001b[0m                                 Traceback (most recent call last)",
      "\u001b[0;32m<ipython-input-31-d8d6b7b0f556>\u001b[0m in \u001b[0;36m<module>\u001b[0;34m\u001b[0m\n\u001b[1;32m      3\u001b[0m \u001b[0mprint\u001b[0m\u001b[0;34m(\u001b[0m\u001b[0mtupla\u001b[0m\u001b[0;34m[\u001b[0m\u001b[0;36m2\u001b[0m\u001b[0;34m]\u001b[0m\u001b[0;34m)\u001b[0m \u001b[0;31m#veja que para acessar os valores de uma tupla se usa a mesma abordagem de lista\u001b[0m\u001b[0;34m\u001b[0m\u001b[0;34m\u001b[0m\u001b[0m\n\u001b[1;32m      4\u001b[0m \u001b[0;34m\u001b[0m\u001b[0m\n\u001b[0;32m----> 5\u001b[0;31m \u001b[0mtupla\u001b[0m\u001b[0;34m[\u001b[0m\u001b[0;36m2\u001b[0m\u001b[0;34m]\u001b[0m \u001b[0;34m=\u001b[0m \u001b[0;36m9\u001b[0m\u001b[0;34m\u001b[0m\u001b[0;34m\u001b[0m\u001b[0m\n\u001b[0m",
      "\u001b[0;31mTypeError\u001b[0m: 'tuple' object does not support item assignment"
     ]
    }
   ],
   "source": [
    "tupla = (1, 2, 8, 0, 3)\n",
    "\n",
    "print(tupla[2]) #veja que para acessar os valores de uma tupla se usa a mesma abordagem de lista\n",
    "\n",
    "tupla[2] = 9 #observe o erro ao tentar modificar um tupla"
   ]
  },
  {
   "cell_type": "markdown",
   "metadata": {},
   "source": [
    "#### Operador SLICE(:):\n",
    "\n",
    "um dos últimos detalhes a ser explorado nas variáveis iteráveis é o operador slice, que é de suma importância para a construção de algorítmos em python. O que esse operado faz é bascamente pegar todos os valores antes ou depois de um determinado índice. Para utiliza-lo veja abaixo:\n",
    "\n",
    "~~~python\n",
    "lista = [1, 3, 5, 7, 9]\n",
    "lista[2:] #pega todos os valores apartir do índice 2 até o fim da lista ou tupla.\n",
    "\n",
    "lista[:2] #pega todos os valores que antecedem o valor de índice 2 e o próprio valor da casa 2.\n",
    "~~~\n",
    "\n",
    "**Demo.:**"
   ]
  },
  {
   "cell_type": "code",
   "execution_count": 36,
   "metadata": {
    "scrolled": true
   },
   "outputs": [
    {
     "name": "stdout",
     "output_type": "stream",
     "text": [
      "do índice 3 até o  10 :  (90, 9, 0, 11, 7, 3, 8)\n",
      "do índice 6 até o 0 (1, 3, 5, 90, 9, 0)\n"
     ]
    }
   ],
   "source": [
    "numeros = (1, 3, 5, 90, 9, 0, 11, 7, 3, 8)\n",
    "\n",
    "if(numeros[:6] != numeros[3:]):\n",
    "    print(\"do índice 3 até o \",len(numeros), \": \",numeros[3:])\n",
    "    print(\"do índice 6 até o 0\",numeros[:6])"
   ]
  },
  {
   "cell_type": "markdown",
   "metadata": {},
   "source": [
    "**Veja os operadores de iterável: \"in\", \"*\" e \"+\"**\n",
    "Demo.:"
   ]
  },
  {
   "cell_type": "code",
   "execution_count": 48,
   "metadata": {},
   "outputs": [
    {
     "name": "stdout",
     "output_type": "stream",
     "text": [
      "bananabananabanana\n",
      "\n",
      "(1, 2, 9, 0, 0, 2, 1, 9, 5, 99, 0, 8)\n",
      "\n",
      "True\n"
     ]
    }
   ],
   "source": [
    "texto = \"banana\" \n",
    "print (texto*3)#faz com que haja a repetição do interável\n",
    "\n",
    "print()\n",
    "\n",
    "tupla1 = (1,2,9, 0, 0)\n",
    "tupla2 = (2, 1, 9, 5, 99, 0, 8)\n",
    "print(tupla1 + tupla2)#soma interáveis\n",
    "\n",
    "print()\n",
    "\n",
    "lista = [1,2,9, 0, 0]#checa se um valor está contidos no interável, retorna um booleana\n",
    "print((9 in lista) and (0 in lista))\n"
   ]
  },
  {
   "cell_type": "markdown",
   "metadata": {},
   "source": [
    "<hr>\n",
    "\n",
    "## Agora iremos explorar as funções em python:"
   ]
  },
  {
   "cell_type": "markdown",
   "metadata": {},
   "source": [
    "Funções tem a capacidade de gerar códigos moduláres e flexíveis para todos os casos. Uma função recebe parâmetros em seu argumento, dentro de sua estrura tm blocos de código que podem ser executadas apartir da chamada da função e pode ter também um comando que explicita a saída que a função irá retornar. Uma função deve ser criada, se decide seu algorítmo, lógica, tipo de saida, parâmetros genéricos e variáveis locais, e depois pode ser chamada, onde se determina os parâmetros reais e onde o algorítmo da função irá realmente ser executado. SObre as variáveis que são criadas dentro de funções, elas são denominadas variáveis LOCAIS, pois só operam dentro daquela determinada função(o espaço dentro das funções é denominado como escopo local, em que cada função tem um escopo diferente) e so podem sair da mesma apartir da daída da função, caso contrário as variáveis locais são apagadas ao final da execução da função. Já as variáveis criadas fora da função, elas são denomidas de variáveis GLOBAIS, pois são criadas dentro do escopo global, essa variáveis tem a capacidade de serem usadas em QUALQUER escopo, bastando usar a palavra chave global seguido pelo nome da variável. Vale salientar que para uma variável global ser utilizada em um escopo local ela deve ser crianda antes da chamada da função a qual ela irá participar.\n",
    "\n",
    "~~~python\n",
    "k = 5 #variável global - dentro do escopo global\n",
    "\n",
    "def função(parâmetro1, parâmetro2, ...):\n",
    "    x; y; z; ... #variáveis locais - só existem dentro da função(escopo local)\n",
    "    global k; k =... #chamada e manipulação da variável global\n",
    "    \n",
    "    return variável #saida da função\n",
    "\n",
    "função(x, y, z, ...) #chamada da função criada com seus parâmetros declarados\n",
    "~~~"
   ]
  },
  {
   "cell_type": "markdown",
   "metadata": {},
   "source": [
    "Usaremos uma série de exemplos para demostrar o que se foi explicado acima.\n",
    "\n",
    "<br>\n",
    "\n",
    "#### EX1.:"
   ]
  },
  {
   "cell_type": "code",
   "execution_count": 4,
   "metadata": {},
   "outputs": [
    {
     "name": "stdout",
     "output_type": "stream",
     "text": [
      "5.333333333333333\n"
     ]
    }
   ],
   "source": [
    "def media (a):\n",
    "    media = sum(a)/len(a)\n",
    "    return media\n",
    "\n",
    "numeros = [2, 4, 11, 9, 1, 0, 8, 6, 7]\n",
    "media_ = media(numeros)\n",
    "print(media_)"
   ]
  },
  {
   "cell_type": "markdown",
   "metadata": {},
   "source": [
    "#### EX2:"
   ]
  },
  {
   "cell_type": "code",
   "execution_count": 5,
   "metadata": {},
   "outputs": [
    {
     "name": "stdout",
     "output_type": "stream",
     "text": [
      "0.0017301038062283738\n"
     ]
    }
   ],
   "source": [
    "def imc ():\n",
    "    global peso\n",
    "    global altura\n",
    "    imc = peso/(altura**2)\n",
    "    \n",
    "    return imc\n",
    "\n",
    "peso = 50\n",
    "altura = 170\n",
    "\n",
    "print(imc())"
   ]
  },
  {
   "cell_type": "markdown",
   "metadata": {},
   "source": [
    "#### DEMO:"
   ]
  },
  {
   "cell_type": "code",
   "execution_count": 6,
   "metadata": {
    "scrolled": true
   },
   "outputs": [
    {
     "ename": "NameError",
     "evalue": "name 'x' is not defined",
     "output_type": "error",
     "traceback": [
      "\u001b[0;31m---------------------------------------------------------------------------\u001b[0m",
      "\u001b[0;31mNameError\u001b[0m                                 Traceback (most recent call last)",
      "\u001b[0;32m<ipython-input-6-80d5036f5377>\u001b[0m in \u001b[0;36m<module>\u001b[0;34m\u001b[0m\n\u001b[1;32m      2\u001b[0m     \u001b[0mx\u001b[0m \u001b[0;34m=\u001b[0m \u001b[0;36m100\u001b[0m\u001b[0;34m\u001b[0m\u001b[0;34m\u001b[0m\u001b[0m\n\u001b[1;32m      3\u001b[0m \u001b[0;34m\u001b[0m\u001b[0m\n\u001b[0;32m----> 4\u001b[0;31m \u001b[0mprint\u001b[0m\u001b[0;34m(\u001b[0m\u001b[0mx\u001b[0m\u001b[0;34m)\u001b[0m\u001b[0;34m\u001b[0m\u001b[0;34m\u001b[0m\u001b[0m\n\u001b[0m",
      "\u001b[0;31mNameError\u001b[0m: name 'x' is not defined"
     ]
    }
   ],
   "source": [
    "# I\n",
    "\n",
    "def fun():\n",
    "    x = 100 #aqui temos uma declaração na variável local de x, ela não vale para o escopo global.\n",
    "    \n",
    "fun()\n",
    "print(x) #x não existe no escopo global"
   ]
  },
  {
   "cell_type": "code",
   "execution_count": 8,
   "metadata": {},
   "outputs": [
    {
     "name": "stdout",
     "output_type": "stream",
     "text": [
      "100\n"
     ]
    }
   ],
   "source": [
    "# II\n",
    "\n",
    "def fun():\n",
    "    global x #declaração de uma variável global dentro do escopo local apartit da palavra chave 'global'.\n",
    "    x = 100\n",
    "\n",
    "fun()\n",
    "print(x) #aqui temos a existência de 'x' na variável gobal."
   ]
  },
  {
   "cell_type": "markdown",
   "metadata": {},
   "source": [
    "<hr>\n",
    "\n",
    "## Dicionário\n",
    "<img src=\"https://bjc.edc.org/bjc-r/img/python/dictionaries_vs_lists.jpg\">"
   ]
  },
  {
   "cell_type": "markdown",
   "metadata": {},
   "source": [
    "Dicionários funcionam muito similar a listas python em que valores ficam armazenados em espaços na listas, porém, em dicionários, os valores são localizados por meio de texto em seu índice ao em vez de números. Vale salientar que os dicionários dispensam ordens, sendo um conjunto chave-valor.\n",
    "\n",
    "~~~python\n",
    "dicionario = {\"chave1\" : elemento1, \"chave2\" : elemento2, ..., \"chaveN\" : elementoN}\n",
    "#ou\n",
    "dicionario = {\"chave1\" : elemento1\n",
    "              \"chave2\" : elemento2\n",
    "              ...\n",
    "              \"chaveN\" : elementoN}\n",
    "~~~\n"
   ]
  },
  {
   "cell_type": "markdown",
   "metadata": {},
   "source": [
    "Dicionários possuem seus jeitos únicos de operárem. Para um ítem de um dicionário ser chamado é necessário usar seu índice que, no casom é uma string.\n",
    "Demo:\n"
   ]
  },
  {
   "cell_type": "code",
   "execution_count": 5,
   "metadata": {},
   "outputs": [
    {
     "name": "stdout",
     "output_type": "stream",
     "text": [
      "gato\n",
      "cachorro e tubarão\n"
     ]
    }
   ],
   "source": [
    "traducao = {\"cat\": \"gato\", \"dog\" : \"cachorro\", \"shark\" : \"tubarão\", \"bird\" : \"passaro\"}\n",
    "\n",
    "print(traducao[\"cat\"])\n",
    "print(traducao[\"dog\"] + \" e \" + traducao[\"shark\"])"
   ]
  },
  {
   "cell_type": "markdown",
   "metadata": {},
   "source": [
    "Como os dicionários também são reconhecidos como iteráveis ele podem vir a intergir com os comandos de repetição. Para isso, podemos utilizar o comando .keys() que retorna as chaves do dicionário em uma forma de lista. Com isso, um dicionário apresenta todos os benefícios de uma variável iterável.\n"
   ]
  },
  {
   "cell_type": "code",
   "execution_count": 6,
   "metadata": {},
   "outputs": [
    {
     "name": "stdout",
     "output_type": "stream",
     "text": [
      "dict_keys(['cat', 'dog', 'shark', 'bird'])\n"
     ]
    }
   ],
   "source": [
    "print (traducao.keys())"
   ]
  },
  {
   "cell_type": "code",
   "execution_count": 7,
   "metadata": {},
   "outputs": [
    {
     "name": "stdout",
     "output_type": "stream",
     "text": [
      "cat -> gato\n",
      "dog -> cachorro\n",
      "shark -> tubarão\n",
      "bird -> passaro\n"
     ]
    }
   ],
   "source": [
    "for animal in traducao.keys():\n",
    "    print(animal, '->', traducao[animal])"
   ]
  },
  {
   "cell_type": "code",
   "execution_count": 8,
   "metadata": {},
   "outputs": [
    {
     "name": "stdout",
     "output_type": "stream",
     "text": [
      "cat -> gato\n",
      "dog -> cachorro\n",
      "shark -> tubarão\n",
      "bird -> passaro\n"
     ]
    }
   ],
   "source": [
    "#vale salientar que não é necessário usar o .keys() kkkk veja abaixo\n",
    "for animal in traducao:\n",
    "    print(animal, '->', traducao[animal])"
   ]
  },
  {
   "cell_type": "markdown",
   "metadata": {},
   "source": [
    "Junto com as propriedades expostas acima, dicionários possuem muitas outras funções úteis que auxiliam na manipulação do iterável. São as funções: **.items(), .values(), del() e adicção de ítens** "
   ]
  },
  {
   "cell_type": "markdown",
   "metadata": {},
   "source": [
    "<ul>\n",
    "    <li><b>.items()</b>: é uma função que retorna tanto a string chave quanto o valor armazenado nessa chave. Para fazer isso, a função retorna um ínterável de tuplas, a qual o primeiro valor da tupla é a string chave e o segundo ítem é o valor armazenado na chave.</li>\n",
    "</ul>\n",
    "\n",
    "~~~python\n",
    "traducao.item()\n",
    "\n",
    "for (chave, valor) in traducao.items():\n",
    "    print(chave, \" -> \", valor)\n",
    "# O resultado desse \"for\" será igual ao do exemplo com .keys()\n",
    "~~~\n",
    "\n",
    "<ul>\n",
    "    <li><b>.values()</b>: A função retorna um iterável que compreende todos os valores de cada chave sem ter acesso as chaves do dicionário.</li>\n",
    "    \n",
    "</ul>\n",
    "\n",
    "~~~python\n",
    "for valor in traducao.values(): #via de mão única\n",
    "    print(valor)\n",
    "#será printado todas os valores de cada chave sem mostrar as chaves.\n",
    "~~~\n",
    "\n",
    "\n",
    "<ul>\n",
    "    <li><b>del()</b>: Elimina um certo elemento do dicionário, para isso, é necessário colocar no argumento ta função del o nome do diocionário e a chave do elemento que quer deletar.</li>\n",
    "    \n",
    "</ul>\n",
    "\n",
    "~~~python\n",
    "del(traducao[\"gato\"])\n",
    "#será eliminado do dicionário o elemento com chave \"gato\", todo seu espaço será removido.\n",
    "~~~\n",
    "\n",
    "<ul>\n",
    "    <li><b>Adição de elementos</b>: Para se adicionar um novo elemento a nosso dicionáerio existe um procedimento simples de remeter um valor a uma string chave que ainda não existe em seu dicionário. Para modificar um valor no dicionário existe o mesmo procedimento de uma lista, basta revalidar o valor de uma chave.</li>\n",
    "    \n",
    "</ul>\n",
    "\n",
    "~~~python\n",
    "traducao[\"lion\"] = \"leão\" #ítem adicionado no dicionário\n",
    "traducao[\"cat\"] = \"kittie\" #modificação de um dos elementos\n",
    "\n",
    "~~~\n",
    "\n",
    "<br>\n",
    "\n",
    "### Ex.:"
   ]
  },
  {
   "cell_type": "code",
   "execution_count": 15,
   "metadata": {},
   "outputs": [],
   "source": [
    "dicionario = {\"cat\": \"gato\", \"dog\" : \"cachorro\", \"shark\" : \"tubarão\", \"bird\" : \"passaro\"}"
   ]
  },
  {
   "cell_type": "code",
   "execution_count": 16,
   "metadata": {},
   "outputs": [
    {
     "name": "stdout",
     "output_type": "stream",
     "text": [
      "cat  ->  gato\n",
      "dog  ->  cachorro\n",
      "shark  ->  tubarão\n",
      "bird  ->  passaro\n",
      "\n"
     ]
    }
   ],
   "source": [
    "#dicionario.keys() retorna um interável a qual possui todas as chaves do dicionário em ordem\n",
    "\n",
    "for chave in dicionario.keys():\n",
    "    print(chave, \" -> \", dicionario[chave])\n",
    "    \n",
    "print()"
   ]
  },
  {
   "cell_type": "code",
   "execution_count": 17,
   "metadata": {},
   "outputs": [
    {
     "name": "stdout",
     "output_type": "stream",
     "text": [
      "cat  ->  gato\n",
      "dog  ->  cachorro\n",
      "shark  ->  tubarão\n",
      "bird  ->  passaro\n",
      "\n"
     ]
    }
   ],
   "source": [
    "#Utilizando a função .item para printar a msm mensagem\n",
    "\n",
    "for (chave, valor) in dicionario.items():\n",
    "    print(chave, \" -> \", valor)\n",
    "    \n",
    "print()"
   ]
  },
  {
   "cell_type": "code",
   "execution_count": 18,
   "metadata": {},
   "outputs": [
    {
     "name": "stdout",
     "output_type": "stream",
     "text": [
      "gato\n",
      "cachorro\n",
      "tubarão\n",
      "passaro\n"
     ]
    }
   ],
   "source": [
    "#print de todos os valores utilizando a função .values\n",
    "\n",
    "for valor in dicionario.values(): #via de mão única\n",
    "    print(valor)"
   ]
  },
  {
   "cell_type": "code",
   "execution_count": 19,
   "metadata": {},
   "outputs": [
    {
     "name": "stdout",
     "output_type": "stream",
     "text": [
      "\n",
      "veja o resultados de tods as nossa operações dentro do dicionário inical: \n",
      " {'dog': 'cao', 'shark': 'tubarão', 'bird': 'passaro', 'mouse': 'rato'}\n"
     ]
    }
   ],
   "source": [
    "# modificando e adicionando elementos nos dicionarios\n",
    "\n",
    "dicionario[\"dog\"] = \"cao\" #moficação\n",
    "dicionario[\"mouse\"] = \"rato\" #adiçã0\n",
    "\n",
    "print()\n",
    "\n",
    "#excluindo elementos de um dicionário\n",
    "\n",
    "del (dicionario[\"cat\"])\n",
    "\n",
    "\n",
    "print(\"veja o resultados de tods as nossa operações dentro do dicionário inical: \\n\", dicionario)"
   ]
  },
  {
   "cell_type": "markdown",
   "metadata": {},
   "source": [
    "Extra: como tratar uma string como uma lista.\n",
    "\n",
    "~~~python\n",
    "nome = \"luis Felipe\"\n",
    "list(nome) #tranformação de string em lista, para popder manipular os ítens indivíduas(caractéres) da variável\n",
    "nome[0] = \"L\"\n",
    "\"\".join(nome) #aqui você retorna a variável n forma de string\n",
    "~~~"
   ]
  },
  {
   "cell_type": "markdown",
   "metadata": {},
   "source": [
    "<hr>\n",
    "\n",
    "## LIST COMPREHENSION\n",
    "\n",
    "A list comprehensio é uma maneira de tornar a notação de lista em python mais concisa e rápida. Essa notação permite pequenas linhas de códigos dentro da chamada da lista. Abaixo, as condição genêrica:\n",
    "\n",
    "~~~python\n",
    "comp = [operação(variavel) for variavel in range(intervalo) if (condição 1) if (condição 2) ...]\n",
    "~~~\n",
    "\n",
    "A variavel será o valor a ser inserído dentro da lista, esse valores dependem da repetição e das condições dos \"if\", os comandos condicionais tem uma relação de \"and\", ou seja, ambos os comandos condicionais dentro do list comprehension devem ser compreendidos para a operação ser executada.\n",
    "\n",
    "### EX.:"
   ]
  },
  {
   "cell_type": "code",
   "execution_count": 26,
   "metadata": {},
   "outputs": [
    {
     "name": "stdout",
     "output_type": "stream",
     "text": [
      "[0, 4, 8, 12, 16, 20, 24, 28, 32, 36, 40, 44, 48, 52, 56, 60, 64, 68, 72, 76, 80, 84, 88, 92, 96]\n"
     ]
    }
   ],
   "source": [
    "#lista feita da maneira normal\n",
    "\n",
    "lista = []\n",
    "for i in range (-20, 50):\n",
    "    if(i%2 == 0 ):\n",
    "        if(i >= 0):\n",
    "            lista.append(i*2)\n",
    "print(lista)    "
   ]
  },
  {
   "cell_type": "code",
   "execution_count": 6,
   "metadata": {},
   "outputs": [
    {
     "name": "stdout",
     "output_type": "stream",
     "text": [
      "[0, 4, 8, 12, 16, 20, 24, 28, 32, 36, 40, 44, 48, 52, 56, 60, 64, 68, 72, 76, 80, 84, 88, 92, 96]\n"
     ]
    }
   ],
   "source": [
    "#lista feita de list comprehension\n",
    "\n",
    "lista = [2*k for k in range(-20, 50) if (k%2 == 0) if (k >= 0)]\n",
    "print(lista)\n",
    "\n",
    "# lista = [2*k \n",
    "#         for k in range(-20, 50)\n",
    "#         if (k%2 == 0)\n",
    "#         if (k >= 0)\n",
    "#         ]"
   ]
  },
  {
   "cell_type": "markdown",
   "metadata": {},
   "source": [
    "Pode ser implementado uma função na parte de operação\n"
   ]
  },
  {
   "cell_type": "code",
   "execution_count": 35,
   "metadata": {},
   "outputs": [
    {
     "name": "stdout",
     "output_type": "stream",
     "text": [
      "['N', 'N', 'N', 'N', 'N', 'N', 'N', 'N', 'N', 'N', 'P', 'P', 'P', 'P', 'P', 'P', 'P', 'P', 'P', 'P', 'P', 'P', 'P', 'P', 'P', 'P', 'P', 'P', 'P']\n"
     ]
    }
   ],
   "source": [
    "def a (a): #função utilizada na declaração de lista\n",
    "    if(a > 0):\n",
    "        return 'P'\n",
    "    else:\n",
    "        return 'N'\n",
    "\n",
    "num = [a(k) #função aplicada\n",
    "    for k in range(-50, 50) \n",
    "    if k < 20 \n",
    "    if k > -10\n",
    "    ]\n",
    "\n",
    "print(num)"
   ]
  },
  {
   "cell_type": "markdown",
   "metadata": {},
   "source": [
    "OBS.: Para rodar o python nativo e para instalar modulos no python \n",
    "\n",
    "\n",
    "<p>/usr/bin/python3.7 /caminho/../file.py</p>\n",
    "<p>/usr/bun/python3.7 -m pip install modulo</p>\n"
   ]
  },
  {
   "cell_type": "markdown",
   "metadata": {},
   "source": [
    "<hr>\n",
    "\n",
    "## Importação, modulos e pacotes"
   ]
  },
  {
   "cell_type": "markdown",
   "metadata": {},
   "source": [
    "Em geral, quando começamos a trabalhar em um longo código tendemos a utilizar códigos em outros arquivos para facilitar nosso trabalho, pensando nisso temos em python uma forma de importar arquivos, funções, pacotes e etc...\n",
    "Para importar os modulos e pacotes temos que usar a palavra chave \"import\", quando se que importar um modulo que está dentro de um pacote usa a separação por \".\" do nome do pacote do modulo. Também podemos, opcionalmente, abreviar o nome do módulo dentro de nosso código apatir da palavra chave \"as\".\n",
    "\n",
    "## Demo.:\n",
    "\n",
    "~~~python \n",
    "import modulo as md\n",
    "import pacote.modulo as pctmd\n",
    "~~~\n"
   ]
  },
  {
   "cell_type": "markdown",
   "metadata": {},
   "source": [
    "Caso quisermos utilizar uma função/variável de uma módulo devemos importar o módulo, como visto acima, e colocar o nome do modulo anterior ao nome da função/variável que se quer chamar do múdulo. Caso não se queira utilizar o procedimento citado anteriormente para se utiizar um ítem de um módulo, pode-se utilizar a palavra chave \"from\" que trás especificamente um ítem do modulo para o código."
   ]
  },
  {
   "cell_type": "markdown",
   "metadata": {},
   "source": [
    "A baixo utilizaremos o pacote \"pocotes\", presente no mesma pasta que esse ipynb, para demostrar o que foi citado, além disso, utiizaremos o módulo \"numpy\" para um comparativo."
   ]
  },
  {
   "cell_type": "code",
   "execution_count": 4,
   "metadata": {},
   "outputs": [
    {
     "data": {
      "text/plain": [
       "3.14159"
      ]
     },
     "execution_count": 4,
     "metadata": {},
     "output_type": "execute_result"
    }
   ],
   "source": [
    "import pacotes.matematica_ruim as mt\n",
    "mt.pi"
   ]
  },
  {
   "cell_type": "code",
   "execution_count": 5,
   "metadata": {},
   "outputs": [
    {
     "data": {
      "text/plain": [
       "3.141592653589793"
      ]
     },
     "execution_count": 5,
     "metadata": {},
     "output_type": "execute_result"
    }
   ],
   "source": [
    "import numpy #importação do módulo numpy\n",
    "numpy.pi"
   ]
  },
  {
   "cell_type": "code",
   "execution_count": 7,
   "metadata": {},
   "outputs": [
    {
     "name": "stdout",
     "output_type": "stream",
     "text": [
      "2.718281828459045\n"
     ]
    }
   ],
   "source": [
    "from numpy import e #imoprtação direta para o código\n",
    "print(e)"
   ]
  },
  {
   "cell_type": "markdown",
   "metadata": {},
   "source": [
    "<hr>\n",
    "\n",
    "## Execeções\n",
    "\n",
    "Exceções são problemas encontrados pelo python no momento de executar algum código, esses problemas são reeconhecidos pelo python que retornam um erro como output para seu código, ou seja, o seu código terá sua execução interrompida pelo python a um erro. Exceções são muito comuns na vida de um programdor e são importantes para localizar erros cometidos nos códigos.\n",
    "\n",
    "#### Ex.:"
   ]
  },
  {
   "cell_type": "code",
   "execution_count": 9,
   "metadata": {},
   "outputs": [
    {
     "ename": "SyntaxError",
     "evalue": "invalid syntax (<ipython-input-9-5cf941417da9>, line 3)",
     "output_type": "error",
     "traceback": [
      "\u001b[0;36m  File \u001b[0;32m\"<ipython-input-9-5cf941417da9>\"\u001b[0;36m, line \u001b[0;32m3\u001b[0m\n\u001b[0;31m    if valor > 100\u001b[0m\n\u001b[0m                  ^\u001b[0m\n\u001b[0;31mSyntaxError\u001b[0m\u001b[0;31m:\u001b[0m invalid syntax\n"
     ]
    }
   ],
   "source": [
    "valor = 50\n",
    "\n",
    "if valor > 100\n",
    "    print(\"maior que 100\") # Perceba que o : foi esquecido da estrutura gerando um erro no output\n",
    "    \n",
    "else:\n",
    "    \"não é maior que 100\""
   ]
  },
  {
   "cell_type": "markdown",
   "metadata": {},
   "source": [
    "Veja que no exemplo acima que o python retorna um **SyntaxError** indicando uma falha na execução do código devido a um erro na sintaxi da linguagem, a qual, no caso, sabemos que é a falta do \":\" ao final da condição do if. Além de parar e indicar qual foi o erro, o python também indica a possível localização do erro."
   ]
  },
  {
   "cell_type": "markdown",
   "metadata": {},
   "source": [
    "<br>\n",
    "\n",
    "## Tratamento de exceções\n",
    "\n",
    "Para tornar mais útil os erros retornados pelo python quando se há problemas de execução, aprederemos a tratar esse erros sem que a execução do nosso código seja interrompido. Essa tratamento basicamente prevê a possibilidade de erro em um certo bloco de código e busca contornar esse erro. As palavras chaves do tratamento de dados são **try, exeption e finally**"
   ]
  },
  {
   "cell_type": "markdown",
   "metadata": {},
   "source": [
    "~~~python\n",
    "try:\n",
    "    CÓDIGO COM POSSÍVEL PROBLEMA\n",
    "    \n",
    "except TIPO_DE_ERRO1:\n",
    "    CÓDIGO PARA O ERRO1\n",
    "    \n",
    "except TIPO_DE_ERRO2:\n",
    "    CÓDIGO PARA O ERRO2\n",
    "\n",
    "finally: \n",
    "    EXECUÇÃO QUE SEMPRE OCORRE\n",
    "~~~"
   ]
  },
  {
   "cell_type": "markdown",
   "metadata": {},
   "source": [
    "A estrutura do **try** recebe sempre blocos de códigos a quais pode-se encontrar erros, caso um erro for encontrado, o código não será interrompido e a execução passará para o comando de exept caso exista o erro requisitado pela função. O **except** é responsável por tratar o determinado erro encontrado detro do bloco try, sendo a reposta para o erro o algorítmo contido no try, vale salientar que caso não haja específicação de erro no except(except com argumeto vazio) qualquer erro que ocorra no try resulta na execução dos códigos presentes no except. Por final, temos o **finally**, que tem função de execução final.\n",
    "\n",
    "### Ex.:"
   ]
  },
  {
   "cell_type": "code",
   "execution_count": 5,
   "metadata": {},
   "outputs": [
    {
     "name": "stdout",
     "output_type": "stream",
     "text": [
      "ocorreu um erro --> (<class 'ZeroDivisionError'>, ZeroDivisionError('division by zero'), <traceback object at 0x7ff9883cc2d0>)\n",
      "\n",
      "sempre apareço\n"
     ]
    }
   ],
   "source": [
    "import sys #importação de modulo que possui a função sys.exc_info(), que busca o traceback do erro\n",
    "\n",
    "def simples ():\n",
    "    a = 1/0 ## erro\n",
    "\n",
    "try:\n",
    "    simples()\n",
    "except: #perceba a existência de um comando except vazio, ou seja, qualquer erro no try desencadeia a sua execução.\n",
    "    print(\"ocorreu um erro -->\", sys.exc_info())\n",
    "    print() ## retorna o erro original do código\n",
    "\n",
    "finally:\n",
    "    print(\"sempre apareço\")"
   ]
  },
  {
   "cell_type": "code",
   "execution_count": 6,
   "metadata": {},
   "outputs": [
    {
     "name": "stdout",
     "output_type": "stream",
     "text": [
      "0\n",
      "não se pode colocar zero\n",
      "sempre apareço\n"
     ]
    }
   ],
   "source": [
    "def func (a):\n",
    "    return 1/a\n",
    "\n",
    "try:\n",
    "    x = int(input())\n",
    "    func (x)\n",
    "\n",
    "except ZeroDivisionError : # erro gerado no momento que há divisão por 0\n",
    "    print(\"não se pode colocar zero\")\n",
    "\n",
    "except ValueError:  # erro que busca valores inadequados, por exemplor uma string\n",
    "    print(\"valor inadequado\")\n",
    "\n",
    "finally:\n",
    "    print(\"sempre apareço\")"
   ]
  },
  {
   "cell_type": "markdown",
   "metadata": {},
   "source": [
    "Segue um link que possui todos os tipos de erros já presentes no python, chamados de Built-in exception: [LINK](https://www.programiz.com/python-programming/exceptions)\n",
    "\n",
    "<hr>"
   ]
  },
  {
   "cell_type": "markdown",
   "metadata": {},
   "source": [
    "## Orientação a objetos\n",
    "\n",
    "<p> A programação orientada a objeto é uma onva maneira de realizar tarefas em uma linguagem de programação que busca de maneira mais efetiva representar o comportamento e a lógica do mundo real. O POO funciona com dois componentes básicos a classe e o objeto. A classe funciona como um molde para um objeto, uma fôrma genérica que não possui representação real, ou seja, é abstrato, já o objeto é a realização da classe, a existência real daquilo que se foi criado na classe. Vale salientar que o código sempre interage com o objeto e não com a classe.\n",
    "</p>\n",
    "<p>Dentro de uma classe exitetem seus componentes, aquilo que cacteriza uma classe e lhe torna única. Os componentes dessa classe são os atributos e os métodos(ou comportamentos).\n",
    "</p>\n",
    "\n",
    "<ul>\n",
    "    <li>Atributos: São aqueles componentes que caracterizam aquela classe, podemos pensar neles como adjetivos de um objeto. Se comportam como variáveis.</li>\n",
    "    <li>Metodos: São as ações possíveis para esse objeto e se comportam exatamente como funções.</li>\n",
    "</ul>\n",
    "    "
   ]
  },
  {
   "cell_type": "code",
   "execution_count": null,
   "metadata": {},
   "outputs": [],
   "source": []
  }
 ],
 "metadata": {
  "kernelspec": {
   "display_name": "Python 3",
   "language": "python",
   "name": "python3"
  },
  "language_info": {
   "codemirror_mode": {
    "name": "ipython",
    "version": 3
   },
   "file_extension": ".py",
   "mimetype": "text/x-python",
   "name": "python",
   "nbconvert_exporter": "python",
   "pygments_lexer": "ipython3",
   "version": "3.7.4"
  }
 },
 "nbformat": 4,
 "nbformat_minor": 2
}
